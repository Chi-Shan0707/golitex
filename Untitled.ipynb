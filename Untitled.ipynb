{
 "cells": [
  {
   "cell_type": "code",
   "execution_count": null,
   "id": "4de0b736-5167-4174-8e83-e2f7352cb3c0",
   "metadata": {},
   "outputs": [],
   "source": [
    "let a R"
   ]
  }
 ],
 "metadata": {
  "kernelspec": {
   "display_name": "Litex",
   "language": "litex",
   "name": "litex"
  },
  "language_info": {
   "file_extension": ".lix",
   "name": "litex"
  }
 },
 "nbformat": 4,
 "nbformat_minor": 5
}
