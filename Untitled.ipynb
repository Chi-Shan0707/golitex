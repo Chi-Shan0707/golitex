{
 "cells": [
  {
   "cell_type": "code",
   "execution_count": null,
   "id": "920ec93c-e709-4a4c-b198-366d89f5b21a",
   "metadata": {},
   "outputs": [],
   "source": []
  }
 ],
 "metadata": {
  "kernelspec": {
   "display_name": "Litex",
   "language": "litex",
   "name": "litex"
  },
  "language_info": {
   "file_extension": ".lix",
   "name": "litex"
  }
 },
 "nbformat": 4,
 "nbformat_minor": 5
}
